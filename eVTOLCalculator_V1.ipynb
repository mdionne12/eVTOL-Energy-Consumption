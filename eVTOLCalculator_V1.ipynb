{
 "cells": [
  {
   "cell_type": "code",
   "metadata": {
    "tags": [],
    "cell_id": "00000-2479aeb3-411a-4a0f-9c23-fbcf0d75b055",
    "deepnote_to_be_reexecuted": false,
    "source_hash": "33e9f50a",
    "execution_start": 1625105816762,
    "execution_millis": 572,
    "deepnote_cell_type": "code"
   },
   "source": "import numpy as np\nimport pandas as pd\nfrom matplotlib import pyplot as plt\n%matplotlib inline",
   "execution_count": 1,
   "outputs": []
  },
  {
   "cell_type": "markdown",
   "source": "# eVTOL energy consumption code\n\n## Section 1. Introduction\n\n### Section 1a. Variable meanings\n\n**V_cruise** : cruise speed in $\\frac{m}{s}$\n\n**R** : radius of the rotor in $m$\n\n**A_rotor** : Rotor disk area in $m^2$\n\n**m** : mass in $kg$\n\n$\\mathbf{\\sigma}$ : thrust weighted solidity ratio\n\n**Cd_mean** : mean blade drag coeffcient\n\n**Fp** : accounts for increase in blade section velocity with rotor edgewise and axial speed\n\n**k** : induced power factor\n\n$\\mathbf{\\Omega}$ : rotational velocity of the rotor blades in $\\frac{rad}{s}$\n\n**P_max** : total deliverable power in $kW$\n\n$\\mathbf{\\rho}$ : air density in $\\frac{kg}{m^3}$ \n\n**g** : acceleration due to gravity $\\frac{m}{s^2}$\n\n$\\mathbf{\\phi}$ : Rotor tip-path-plane roll angle in degrees",
   "metadata": {
    "tags": [],
    "cell_id": "00002-19b0bc70-46ac-45b2-9f2b-2ed879ced7e9",
    "deepnote_cell_type": "markdown"
   }
  },
  {
   "cell_type": "markdown",
   "source": "## Section 2. Givens\n\nDefaults the givens to values specified from Matt and Hadi's code. But allows the user to update them following the prompts.",
   "metadata": {
    "tags": [],
    "cell_id": "00003-6284a8dc-91a2-4ab4-b350-9f00fe6d7d48",
    "deepnote_cell_type": "markdown"
   }
  },
  {
   "outputs": [
    {
     "name": "stdout",
     "text": "Welcome to the eVTOL energy consumption calculator!\nThe default given variables are as follows:\nV_cruise = 50.41 m/s\nR = 4.0 m\nA_rotor = 50.26 m^2\nm = 2940 kg\nsigma = 0.055 \nCd_mean = 0.0089 \nFp = 0.97 \nk = 1.75 \nOmega = 30.12 rad/s\nP_max = 494.25 kW\nrho = 1.225 kg/m^3\ng = 9.81 m/s^2\nphi = 0 deg\n\nP_max has been updated to 500.0 kW\n\nHere are the values of your given variables:\nV_cruise = 50.41 m/s\nR = 4.0 m\nA_rotor = 50.26 m^2\nm = 2940 kg\nsigma = 0.055 \nCd_mean = 0.0089 \nFp = 0.97 \nk = 1.75 \nOmega = 30.12 rad/s\nP_max = 500.0 kW\nrho = 1.225 kg/m^3\ng = 9.81 m/s^2\nphi = 0 deg\n",
     "output_type": "stream"
    }
   ],
   "cell_type": "code",
   "source": "print(\"Welcome to the eVTOL energy consumption calculator!\")\n\ndefaultValuesDict = {'V_cruise':50.41, 'R':4.0, 'A_rotor' : 50.26, 'm':2940,\n                     'sigma':0.055, 'Cd_mean':0.0089, 'Fp':0.97, 'k':1.75,\n                     'Omega':30.12, 'P_max':494.25,'rho':1.225,'g':9.81, 'phi':0}\n\ncurrentValuesDict = defaultValuesDict\n\nVarNameList = list(defaultValuesDict.keys())\nVarValueList = list(defaultValuesDict.values())\n\nUnitsList = ['m/s', 'm', 'm^2', 'kg', '', '', '', '', 'rad/s', 'kW', 'kg/m^3', 'm/s^2', 'deg']\n\nprint(\"The default given variables are as follows:\")\n\nfor i in range(len(defaultValuesDict)):\n    print(f\"{VarNameList[i]} = {VarValueList[i]} {UnitsList[i]}\")\n\nprint()\n\nchoice1 = input(\"Do you want to keep the current givens? (Y/N)\")\n\nwhile choice1 != 'Y' and choice1 != 'y' and choice1 != 'N' and choice1 != 'n':\n    choice1 = input('Please enter either Y or N')\n\nif choice1 == 'Y' or choice1 == 'y':\n    print('You have chosen to keep the variables as the default values')\n\nelse:\n    RepeatVariableChange = True\n    while RepeatVariableChange:\n\n        VariableName = input('Please select the variable you wish to update, by providing the name as given:')\n        while VariableName not in VarNameList:\n            VariableName = input('Please enter the variable of your choice exactly as given above: ')\n\n        DoItAgain = True\n\n        while DoItAgain:\n            try: \n                x = float(input(f\"You have chosen to update {VariableName}. Please enter a number for the new value: \"))\n                DoItAgain = False\n            except:\n                DoItAgain = True\n\n        currentValuesDict[VariableName] = x\n\n        indexOfVariable = VarNameList.index(VariableName)\n        print(f\"{VariableName} has been updated to {x} {UnitsList[indexOfVariable]}\")\n\n        choice2 = input('Do you wish to update another variable? (Y/N)')\n        while choice2 != 'Y' and choice2 != 'y' and choice2 != 'N' and choice2 != 'n':\n            choice2 = input('Please enter either Y or N')\n\n        if choice2 == 'N' or choice2 == 'n':\n            RepeatVariableChange = False\n            print()\n            print('Here are the values of your given variables:')\n\n            VarValueList = list(currentValuesDict.values())\n            for i in range(len(currentValuesDict)):\n                print(f\"{VarNameList[i]} = {VarValueList[i]} {UnitsList[i]}\")\n        else:\n            RepeatVariableChange = True\n\n\n#create global variables with the values given from the dictionary for use throughout\nlocals().update(currentValuesDict)\n#you can now print(sigma) for example",
   "metadata": {
    "tags": [],
    "cell_id": "00002-d15a4e54-61d4-4b8d-8ae0-02ed180f413a",
    "deepnote_to_be_reexecuted": false,
    "source_hash": "6b4d602f",
    "execution_start": 1625105820352,
    "execution_millis": 22305,
    "deepnote_cell_type": "code"
   },
   "execution_count": 2
  },
  {
   "cell_type": "markdown",
   "source": "## Section 3. Math",
   "metadata": {
    "tags": [],
    "cell_id": "00003-0a7b88c4-cddd-4266-9950-62774a513b6a",
    "deepnote_cell_type": "markdown"
   }
  },
  {
   "cell_type": "code",
   "source": "def powerCruise_noWind (F_d_value, alpha_value, levelFlightMode=True):\n    '''Function Description:\n    This function calculates several flight parameters given input conditions. Assumes constant cruise velocity during the duration of the flight and no wind influences\n    \n    Arguments: \n    F_d value - float value of distance given in kilometers\n    alpha - float value of angle of attack given in degrees\n    \n    Returns:\n    None at this time, just print statements for the output\n    '''\n\n    if levelFlightMode:\n        Theta = alpha_value #Rotor tip-path-plane pitch angle   ###Theta = Alpha for level flight\n    else:\n        #update this!!!\n        Theta = 10\n        #currently haven't solved how Theta would be calculated in non-level flight\n        pass\n\n\n    ## Flight Time\n\n    #Assuming constant V_cruise for the duration of the flight\n    Tf = (F_d_value*1000)/V_cruise #Time of flight [seconds]\n    print(f\"The total time of flight is {round(Tf, 2)} seconds, equivalently, {round(Tf/60, 2)} minutes\")\n\n    ## Thrust\n\n    T = m*g/(np.cos(phi*np.pi/180)*np.cos(Theta*np.pi/180)) #Total eVTOL thrust [N]\n    T_rotor = T/4\n\n    print(f\"The thrust on each rotor is {round(T_rotor/1000,2)} kN\")\n    print(f\"The total thrust required is {round(T/1000, 2)} kN\")\n\n    ## Induced Velocity (Vi) and Hover Induced Velocity (Vh)\n\n    Vh = np.sqrt(T_rotor/(2*rho*A_rotor))  #Hover induced velocity\n\n    #Induced Velocity\n    coefficients = [1, 2*V_cruise*np.sin(alpha_value*np.pi/180), (V_cruise**2), 0, -Vh**4] #Defining the coefficients of the polynomial\n\n    x = np.roots(coefficients) #Solves for the roots of the polynomial\n\n    #Finding the real positive value that is lower than Vh\n    for i in range(len(x)):\n        if x[i].real > 0 and x[i] < Vh:\n            Vi = x[i].real #Induced velocity\n\n    #Checking the solution for Vi based on Equation 10\n    y = (Vh**2)/(np.sqrt((V_cruise*np.cos(alpha_value*np.pi/180))**2+(V_cruise*np.sin(alpha_value*np.pi/180)+Vi)**2))\n\n    if y-Vi < 0.001:\n        print(\"Vi is good\")\n    else:\n        print(\"***Check Vi***\")\n\n    ## Power\n\n    #Induced Power\n    P_ind_rot = k*T_rotor*Vi\n\n    #Parasite Power\n    P_parasite = T*V_cruise*np.sin(alpha_value*np.pi/180) #[W]\n\n    #Profile Power\n    P_prof = (rho*A_rotor*((Omega*R)**3)*sigma*Cd_mean*Fp)/8 #[W]\n\n    #Total power required\n    P_required = (P_ind_rot*4+P_parasite+P_prof) #[W]\n    print(f\"The power required for the flight is {round(P_required/1000, 2)} kW\")\n\n\n    ## Energy (Performance Index)\n\n    E_total = (P_required*Tf)/1E6 #[MJ]\n    print(f\"The total energy consumption during the flight is {round(E_total, 2)} MJ\")\n\n    ## Summary\n\n    print(f'Alpha = {alpha_value}°')\n    print(f\"Flight Distance = {round(F_d_value)} km\")\n    print(f\"Flight Time = {round(Tf, 2)} seconds, equivalently, {round(Tf/60, 2)} minutes\")\n    print(f\"Total Thurst = {round(T/1000, 2)} kN\")\n    print(f\"Thrust Per Rotor = {round(T_rotor/1000, 2)} kN\")\n    print()\n    print(\"Power:\")\n    print(f\"Induced Power = {round(P_ind_rot*4/1000, 2)} kW\")\n    print(f\"Parasite Power = {round(P_parasite/1000, 2)} kW\")\n    print(f\"Profile Power = {round(P_prof/1000, 2)} kW\")\n    print(f\"Total Power = {round(P_required/1000, 2)} kW\")\n    print()\n    print(\"Energy:\")\n    print(f\"Total Energy = {round(E_total, 2)} MJ\")",
   "metadata": {
    "tags": [],
    "cell_id": "00006-80d8380e-26c7-4db2-bd28-ce0c9096e26c",
    "deepnote_to_be_reexecuted": false,
    "source_hash": "ea159f5",
    "execution_start": 1625105359037,
    "execution_millis": 2,
    "deepnote_cell_type": "code"
   },
   "outputs": [],
   "execution_count": null
  },
  {
   "cell_type": "code",
   "source": "print('Reminder of the current givens: ')\nfor i in range(len(currentValuesDict)):\n    print(f\"{VarNameList[i]} = {VarValueList[i]} {UnitsList[i]}\")\n\nprint()\nprint('--------------------------------------------------')\nprint()\n\nfor num, i in enumerate(range(20, 50+15, 15)):\n    print(f'Study {num+1}:')\n    print(f'The flight distance for this study is {i} km')\n    powerCruise_noWind (i, alpha_value = 3)\n    print()\n    print('--------------------------------------------------')\n    print()",
   "metadata": {
    "tags": [],
    "cell_id": "00007-09ebf82e-5738-47a8-a0a0-b5b921863d01",
    "deepnote_to_be_reexecuted": false,
    "source_hash": "85d78a5b",
    "execution_start": 1625105359064,
    "execution_millis": 46,
    "deepnote_cell_type": "code"
   },
   "outputs": [
    {
     "name": "stdout",
     "text": "Reminder of the current givens: \nV_cruise = 50.41 m/s\nR = 4.0 m\nA_rotor = 50.26 m^2\nm = 2940 kg\nsigma = 0.055 \nCd_mean = 0.0089 \nFp = 0.97 \nk = 1.75 \nOmega = 30.12 rad/s\nP_max = 494.25 kW\nrho = 1.225 kg/m^3\ng = 9.81 m/s^2\nphi = 0 deg\n\n--------------------------------------------------\n\nStudy 1:\nThe flight distance for this study is 20 km\nThe total time of flight is 396.75 seconds, equivalently, 6.61 minutes\nThe thrust on each rotor is 7.22 kN\nThe total thrust required is 28.88 kN\nVi is good\nThe power required for the flight is 141.29 kW\nThe total energy consumption during the flight is 56.06 MJ\nAlpha = 3°\nFlight Distance = 20 km\nFlight Time = 396.75 seconds, equivalently, 6.61 minutes\nTotal Thurst = 28.88 kN\nThrust Per Rotor = 7.22 kN\n\nPower:\nInduced Power = 58.7 kW\nParasite Power = 76.2 kW\nProfile Power = 6.39 kW\nTotal Power = 141.29 kW\n\nEnergy:\nTotal Energy = 56.06 MJ\n\n--------------------------------------------------\n\nStudy 2:\nThe flight distance for this study is 35 km\nThe total time of flight is 694.31 seconds, equivalently, 11.57 minutes\nThe thrust on each rotor is 7.22 kN\nThe total thrust required is 28.88 kN\nVi is good\nThe power required for the flight is 141.29 kW\nThe total energy consumption during the flight is 98.1 MJ\nAlpha = 3°\nFlight Distance = 35 km\nFlight Time = 694.31 seconds, equivalently, 11.57 minutes\nTotal Thurst = 28.88 kN\nThrust Per Rotor = 7.22 kN\n\nPower:\nInduced Power = 58.7 kW\nParasite Power = 76.2 kW\nProfile Power = 6.39 kW\nTotal Power = 141.29 kW\n\nEnergy:\nTotal Energy = 98.1 MJ\n\n--------------------------------------------------\n\nStudy 3:\nThe flight distance for this study is 50 km\nThe total time of flight is 991.87 seconds, equivalently, 16.53 minutes\nThe thrust on each rotor is 7.22 kN\nThe total thrust required is 28.88 kN\nVi is good\nThe power required for the flight is 141.29 kW\nThe total energy consumption during the flight is 140.14 MJ\nAlpha = 3°\nFlight Distance = 50 km\nFlight Time = 991.87 seconds, equivalently, 16.53 minutes\nTotal Thurst = 28.88 kN\nThrust Per Rotor = 7.22 kN\n\nPower:\nInduced Power = 58.7 kW\nParasite Power = 76.2 kW\nProfile Power = 6.39 kW\nTotal Power = 141.29 kW\n\nEnergy:\nTotal Energy = 140.14 MJ\n\n--------------------------------------------------\n\n",
     "output_type": "stream"
    }
   ],
   "execution_count": null
  },
  {
   "cell_type": "markdown",
   "source": "## Section 4. Future expansion",
   "metadata": {
    "tags": [],
    "cell_id": "00005-5b5a88cd-6210-4c68-bd6d-fbaf627bc829",
    "deepnote_cell_type": "markdown"
   }
  },
  {
   "cell_type": "markdown",
   "source": "<a style='text-decoration:none;line-height:16px;display:flex;color:#5B5B62;padding:10px;justify-content:end;' href='https://deepnote.com?utm_source=created-in-deepnote-cell&projectId=ec58d3e4-a06a-430a-9b0d-2e414499b170' target=\"_blank\">\n<img alt='Created in deepnote.com' style='display:inline;max-height:16px;margin:0px;margin-right:7.5px;' src='data:image/svg+xml;base64,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' > </img>\nCreated in <span style='font-weight:600;margin-left:4px;'>Deepnote</span></a>",
   "metadata": {
    "tags": [],
    "created_in_deepnote_cell": true,
    "deepnote_cell_type": "markdown"
   }
  }
 ],
 "nbformat": 4,
 "nbformat_minor": 2,
 "metadata": {
  "orig_nbformat": 2,
  "deepnote": {
   "is_reactive": false
  },
  "deepnote_notebook_id": "16e2cdac-ff85-44e1-99dd-c0b22aca906e",
  "deepnote_execution_queue": []
 }
}